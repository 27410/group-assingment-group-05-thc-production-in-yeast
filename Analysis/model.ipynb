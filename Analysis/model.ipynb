{
 "cells": [
  {
   "cell_type": "markdown",
   "metadata": {},
   "source": [
    "## The model\n",
    "***\n",
    "In this project we use a Aspergilius niger GSM-model developed by DTU (CBS513.88) and modify it so it is able to produce recombinant THC. To be able to do this we need to modify the organism by adding metabolites and reaction. "
   ]
  },
  {
   "cell_type": "code",
   "execution_count": 1,
   "metadata": {},
   "outputs": [
    {
     "name": "stderr",
     "output_type": "stream",
     "text": [
      "'' is not a valid SBML 'SId'.\n"
     ]
    }
   ],
   "source": [
    "# Importing libraries\n",
    "from cobra.io import read_sbml_model\n",
    "from cobra import Metabolite, Reaction\n",
    "import cobra\n",
    "\n",
    "# Define the model\n",
    "model = read_sbml_model('GSM_A.niger.xml')"
   ]
  },
  {
   "cell_type": "markdown",
   "metadata": {},
   "source": [
    "## Metabolites, Reactions and Enzymes to be added in model\n",
    "In order to make recombinant THC several enzymes and metabolites need to be added in the model, as Aspergilius \n",
    "***\n",
    "Metabolites\n",
    "\n",
    "- Hexanoyl-coA (HcoA) - C27H46N7O17P3S - in model\n",
    "- Olivetolic Acid (OA) - C12H16O4 - add\n",
    "- (IPP) Isopentenyl pyrophosphate (IPP, isopentenyl diphosphate, or IDP) - \tC5H12O7P2 - in model\n",
    "- Dimethylallyl pyrophosphate (DMAPP) -  C5H12O7P2 - add\n",
    "- Geranyl diphosphate (GPP) - C10H20O7P2 - in model \n",
    "- Cannabigerolic acid (CBGA) - C22H32O4 - add\n",
    "- Tetrahydrocannabinolic acid (THCA) - C22H30O4 -add\n",
    "- Malonyl_CoA  - in model\n",
    "\n",
    "Reactions \n",
    "\n",
    "- Hexanoyl-coA + 3 malonyl-CoA -> Olivetoic acid (OA)                                                    (1) OLS\n",
    "- Dimethylallyl diphosphate (DMAPP) + IPP -> Geranyl diphosphate (GPP)       (2) GPPS\n",
    "- Geranyldiphosphate (GPP) + Olivetolic acid (OA) -> cannabigerolic acid (CBGA)                          (3) CBGAS\n",
    "- cannabigerolic acid (CBGA) -> Tetrahydrocannabinolic acid (THCA)                                       (4) THCAS\n",
    "- Tetrahydrocannabinolic acid (THCA) ->                                             (5) Export\n",
    "-  IPP -> DMPP                                                                       (6) evenwicht\n",
    "\n",
    "Enzymes\n",
    "- Olivetol synthase (OLS)        Gene:   OC115699293\n",
    "- Olivetolic acid cyclase (OAC)  Gene:   OC115723438 \n",
    "- CBGA synthase (CBGAS)          Gene:   PT4-T\n",
    "- THCA synthase (THCAS) \t     Gene:   SAPIO_CDS2003\n",
    "- GPP synthase (GPPS)            Gene:   ERG20 (S. cerevisiea)\n",
    "- Isopentenyl-diphosphate isomerase Gene: fcd1 (Solanum lycopersicum)\n",
    "***"
   ]
  },
  {
   "cell_type": "code",
   "execution_count": 2,
   "metadata": {},
   "outputs": [],
   "source": [
    "# Get id vof metabolites already present in the model\n",
    "hexanoyl_coA =model.metabolites.get_by_id('C60COA')\n",
    "malonyl_CoA = model.metabolites.get_by_id('MALCOA')\n",
    "isopentenyl = model.metabolites.get_by_id('IPPP')\n",
    "geranyl = model.metabolites.get_by_id('GPP')\n",
    "\n",
    "# Create metabolites that need to be added to the model\n",
    "olivetolic_acid = cobra.core.Metabolite(id = 'OA', formula = 'C12H16O4', name = 'Olivetolic Acid', charge = 0, compartment = 'c')\n",
    "dmapp = cobra.core.Metabolite(id = 'DMAPP', formula = 'C5H12O7P2', name = 'Dimethylallyl diphosphate', charge = 0, compartment = 'c')\n",
    "cannabigerolic_acid= cobra.core.Metabolite(id = 'CBGA', formula = 'C22H32O4', name = 'Cannabigerolic Acid', charge = 0, compartment = 'c')\n",
    "tetrahydrocannabinolic_acid  = cobra.core.Metabolite(id = 'THCA', formula = 'C22H30O4', name = 'Tetrahydrocannabinolic acidt', charge = 0, compartment ='c')\n",
    "\n",
    "# Addition of metabolites to the model\n",
    "model.add_metabolites(olivetolic_acid)\n",
    "model.add_metabolites(dmapp)\n",
    "model.add_metabolites(cannabigerolic_acid)\n",
    "model.add_metabolites(tetrahydrocannabinolic_acid)\n"
   ]
  },
  {
   "cell_type": "code",
   "execution_count": 3,
   "metadata": {},
   "outputs": [],
   "source": [
    "# Creation missing reactions of TCH biosynthetic pathway\n",
    "\n",
    "dmapps = cobra.core.Reaction(id = 'DMAPPS', name = 'Isopentenyl-diphosphate isomerase' , lower_bound = 0 , upper_bound = 1000 )\n",
    "dmapps.add_metabolites({isopentenyl : -1, dmapp:1}, reversibly = False)\n",
    "dmapps.gene_reaction_rule = '(fcd1)'\n",
    "\n",
    "gpps = cobra.core.Reaction(id = 'GPPS', name = 'Geranyl-diphosphate synthase' , lower_bound = 0 , upper_bound = 1000 )\n",
    "gpps.add_metabolites({dmapp : -1, isopentenyl:-1, geranyl: 1}, reversibly = False)\n",
    "gpps.gene_reaction_rule = '(ERG20)'\n",
    "\n",
    "ols = cobra.core.Reaction(id = 'OLS', name = 'Olivetol Syntase' ,   lower_bound = 0 , upper_bound = 1000 )\n",
    "ols.add_metabolites({ hexanoyl_coA : -1 , malonyl_CoA : -3, olivetolic_acid: 1}, reversibly = False)\n",
    "ols.gene_reaction_rule = '(OC115699293)'\n",
    "\n",
    "cbgas = cobra.core.Reaction(id = 'CBGAS', name = 'Cannabigerolic acid synthase' , lower_bound = 0 , upper_bound = 1000 )\n",
    "cbgas.add_metabolites({geranyl : -1, olivetolic_acid : -1, cannabigerolic_acid: 1 }, reversibly = False)\n",
    "cbgas.gene_reaction_rule = '(PT4-T)'\n",
    "\n",
    "thcas = cobra.core.Reaction(id = 'THCAS', name = 'Tetrahydrocannabinolic acid synthase' ,  lower_bound = 0 , upper_bound = 1000 )\n",
    "thcas.add_metabolites({cannabigerolic_acid : -1, tetrahydrocannabinolic_acid: 1}, reversibly = False)\n",
    "thcas.gene_reaction_rule = '(SAPIO_CDS2003)'\n",
    "\n",
    "thca_e = cobra.core.Reaction(id = 'THCA_e', name = 'THCA export' , lower_bound = 0 , upper_bound = 1000 )\n",
    "thca_e.add_metabolites({tetrahydrocannabinolic_acid : -1}, reversibly = False)\n",
    "\n",
    "# Addition of reactions to the model\n",
    "model.add_reactions((dmapps, gpps, ols, cbgas, thcas, thca_e))\n"
   ]
  },
  {
   "cell_type": "markdown",
   "metadata": {},
   "source": [
    "***\n",
    "### Setting the objective to THC production\n",
    "***\n",
    "Since the goal is to optimize THC production the objective has to be set to the \"THCAS\"  reaction "
   ]
  },
  {
   "cell_type": "code",
   "execution_count": 5,
   "metadata": {},
   "outputs": [
    {
     "name": "stdout",
     "output_type": "stream",
     "text": [
      "The maximum production rate of THC using the heterologous organism is 3.56 mmol/h*gDw\n"
     ]
    }
   ],
   "source": [
    "model.objective = {model.reactions.THCAS: 1}\n",
    "solution = model.optimize()\n",
    "print('The maximum production rate of THC using the heterologous organism is {:.2f} mmol/h*gDw'.format(solution.fluxes.THCA_e))\n"
   ]
  }
 ],
 "metadata": {
  "kernelspec": {
   "display_name": "Python 3",
   "language": "python",
   "name": "python3"
  },
  "language_info": {
   "codemirror_mode": {
    "name": "ipython",
    "version": 3
   },
   "file_extension": ".py",
   "mimetype": "text/x-python",
   "name": "python",
   "nbconvert_exporter": "python",
   "pygments_lexer": "ipython3",
   "version": "3.9.7"
  }
 },
 "nbformat": 4,
 "nbformat_minor": 2
}
