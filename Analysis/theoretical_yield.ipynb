{
 "cells": [
  {
   "cell_type": "code",
   "execution_count": 1,
   "metadata": {},
   "outputs": [
    {
     "name": "stderr",
     "output_type": "stream",
     "text": [
      "'' is not a valid SBML 'SId'.\n"
     ]
    }
   ],
   "source": [
    "%run model.ipynb"
   ]
  },
  {
   "cell_type": "markdown",
   "metadata": {},
   "source": [
    "## Theoretical yield using different carbon sources\n",
    "***\n",
    "The theoretical yield is calculated by diving the optimized THC production flux by the glucose intake flux"
   ]
  },
  {
   "cell_type": "code",
   "execution_count": 2,
   "metadata": {},
   "outputs": [
    {
     "name": "stdout",
     "output_type": "stream",
     "text": [
      "Max. THC production [mmol gDW^-1 h^-1]: 3.5573476702508904\n",
      "Theoretical max. yield [mmol-THC / mmol-glc]: 0.35573476702508905\n"
     ]
    }
   ],
   "source": [
    "medium = model.medium\n",
    "with model:\n",
    "    THCA_production = model.optimize().objective_value\n",
    "    print(\"Max. THC production [mmol gDW^-1 h^-1]:\", THCA_production)\n",
    "    print(\"Theoretical max. yield [mmol-THC / mmol-glc]:\", THCA_production / (-1*model.reactions.BOUNDARY_GLCe.flux))"
   ]
  },
  {
   "cell_type": "markdown",
   "metadata": {},
   "source": [
    "Next the effect of different carbon sources on the maximum theoretical yield can be calculated using the following lines:"
   ]
  },
  {
   "cell_type": "code",
   "execution_count": 3,
   "metadata": {},
   "outputs": [
    {
     "name": "stdout",
     "output_type": "stream",
     "text": [
      "The THC production using glucose as a primary carbon source yields 3.56 mmol/ gDw*h\n",
      "yield is equal to 0.35573476702508905 mmol / mmol glucose\n",
      "The biomass production using glucose as a primary carbon source yields 0.94 mmol/ gDw*h \n",
      "\n",
      "The THC production using succinate as a primary carbon source yields 1.82 mmol/ gDw*h\n",
      "yield is equal to 0.1818181818181822 mmol / mmol succinate\n",
      "The biomass production using succinate as a primary carbon source yields 0.51 mmol/ gDw*h \n",
      "\n",
      "The THC production using fructose as a primary carbon source yields 3.56 mmol/ gDw*h\n",
      "yield is equal to 0.3557347670250944 mmol / mmol fructose\n",
      "The biomass production using fructose as a primary carbon source yields 0.94 mmol/ gDw*h \n",
      "\n",
      "The THC production using fumarate as a primary carbon source yields 1.78 mmol/ gDw*h\n",
      "yield is equal to 0.1778673835125458 mmol / mmol fumarate\n",
      "The biomass production using fumarate as a primary carbon source yields 0.47 mmol/ gDw*h \n",
      "\n",
      "The THC production using glutamine as a primary carbon source yields 2.67 mmol/ gDw*h\n",
      "yield is equal to 0.2668010752688166 mmol / mmol glutamine\n",
      "The biomass production using glutamine as a primary carbon source yields 0.78 mmol/ gDw*h \n",
      "\n",
      "The THC production using glutamate as a primary carbon source yields 2.67 mmol/ gDw*h\n",
      "yield is equal to 0.266801075268818 mmol / mmol glutamate\n",
      "The biomass production using glutamate as a primary carbon source yields 0.78 mmol/ gDw*h \n",
      "\n",
      "The THC production using sucrose as a primary carbon source yields 7.11 mmol/ gDw*h\n",
      "yield is equal to 0.7114695340501926 mmol / mmol sucrose\n",
      "The biomass production using sucrose as a primary carbon source yields 1.88 mmol/ gDw*h \n",
      "\n",
      "The THC production using lactate as a primary carbon source yields 1.71 mmol/ gDw*h\n",
      "yield is equal to 0.1706242532855421 mmol / mmol lactate\n",
      "The biomass production using lactate as a primary carbon source yields 0.45 mmol/ gDw*h \n",
      "\n",
      "The THC production using malate as a primary carbon source yields 1.78 mmol/ gDw*h\n",
      "yield is equal to 0.17786738351254616 mmol / mmol malate\n",
      "The biomass production using malate as a primary carbon source yields 0.47 mmol/ gDw*h \n",
      "\n",
      "The THC production using pyruvate as a primary carbon source yields 1.48 mmol/ gDw*h\n",
      "yield is equal to 0.14822281959378797 mmol / mmol pyruvate\n",
      "The biomass production using pyruvate as a primary carbon source yields 0.39 mmol/ gDw*h \n",
      "\n"
     ]
    }
   ],
   "source": [
    "c_sources = ['BOUNDARY_GLCe' ,'BOUNDARY_SUCCe', 'BOUNDARY_FRUe', 'BOUNDARY_FUMe', 'BOUNDARY_GLNe' , 'BOUNDARY_GLUe', 'BOUNDARY_SUCe', 'BOUNDARY_LACe', 'BOUNDARY_MALe', 'BOUNDARY_PYRe' ]\n",
    "c_names = [ 'glucose', 'succinate' , 'fructose', 'fumarate', 'glutamine', 'glutamate', 'sucrose', 'lactate', 'malate', 'pyruvate'  ]\n",
    "time= [0,1,2,3,4,5,6,7,8,9]\n",
    "for t in time:\n",
    "    medium = model.medium\n",
    "    with model: \n",
    "            medium['BOUNDARY_GLCe'] = 0\n",
    "            medium[c_sources[t]] = 10\n",
    "            model.medium = medium\n",
    "            model.objective = model.reactions.THCAS\n",
    "            solution = model.optimize()\n",
    "            thc_production = model.optimize().objective_value\n",
    "            react= model.reactions.get_by_id(c_sources[t])\n",
    "            print('The THC production using {} as a primary carbon source yields {:.2f} mmol/ gDw*h'.format(c_names[t], thc_production))\n",
    "            print('yield is equal to ' + str(thc_production / (-1* react.flux)) + ' mmol / mmol {}'.format(c_names[t]) )\n",
    "            model.objective = model.reactions.DRAIN_Biomass\n",
    "            solution = model.optimize()\n",
    "            biomass_production = model.optimize().objective_value\n",
    "            print('The biomass production using {} as a primary carbon source yields {:.2f} mmol/ gDw*h \\n'.format(c_names[t], biomass_production))\n",
    "\n",
    "\n"
   ]
  }
 ],
 "metadata": {
  "kernelspec": {
   "display_name": "Python 3",
   "language": "python",
   "name": "python3"
  },
  "language_info": {
   "codemirror_mode": {
    "name": "ipython",
    "version": 3
   },
   "file_extension": ".py",
   "mimetype": "text/x-python",
   "name": "python",
   "nbconvert_exporter": "python",
   "pygments_lexer": "ipython3",
   "version": "3.9.7"
  }
 },
 "nbformat": 4,
 "nbformat_minor": 2
}
