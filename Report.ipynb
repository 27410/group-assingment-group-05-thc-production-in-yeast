{
 "cells": [
  {
   "cell_type": "code",
   "execution_count": 2,
   "metadata": {},
   "outputs": [],
   "source": [
    "from IPython.display import FileLink, FileLinks"
   ]
  },
  {
   "cell_type": "markdown",
   "metadata": {},
   "source": [
    "# Production of THC by Aspergillus niger"
   ]
  },
  {
   "cell_type": "markdown",
   "metadata": {},
   "source": [
    "## 1. Introduction"
   ]
  },
  {
   "cell_type": "markdown",
   "metadata": {},
   "source": [
    "### 1.1 Literature review of the compound"
   ]
  },
  {
   "cell_type": "markdown",
   "metadata": {},
   "source": [
    "Δ9-Tetrahydrocannabinol (THC) is the main component of cannabis and is used for medical purposes for a long time. The most evidence exists for the effectiveness of THC for chronic cancer pain and neuropathic pain. Two brain receptors are known which have an affinity for TCH: THC cannabinoid receptor type 1 and 2 (CB1 and CB2), where CB2 has a lower affinity for TCH than CB1. Outside the brain CB1 is also found in body systems such as the gastrointestinal, visual and cardiovascular systems. CB2 is also found in tissues of the immune system (lymphatic tissue, spleen, and macrophages) (Costa B., 2007). \n",
    "\n",
    "The market for medical or recreational use of THC is strongly dependent on legalization. At this moment the cannabinoid drugs *Dronabinol* and *Nabilone* are approved by the US Food and Drug Administration (FDA). *Dronabinol* is a synthesized THC and is used for treatment of anorexia in human immunodeficiency virus (HIV) patients. *Nabilone* is a synthetic THC analog. Both are used for treatment in cancer patients which suffer from chemotherapy-associated nausea and vomiting when standard therapies fail. *Nabiximols* is a 1:1 mixture of purified marijuana plant constituents THC and cannabidiol (CBD) and is approved in Europe and Canada, but not by the FDA. The drug is used for adjunctive therapy for pain management and spasticity. The fact that certain THC medications are not approved is due to the potentially addictive and other adverse effects of THC, such as low toxicity (Schrot et al., 2016).\n",
    "Evidence exists for disrupting effects of cannabis on adolescent brain development, but has a positive effect on adult brains. This is caused by the development of more neural connections in adult brain regions associated with memory and learning (Albaugh et al., 2021). Moreover, a recent study found that chronic treatment with THC restored cognitive functions in aging mice, which is in line with the finding that an agonist WIN-55212-2 improved the memory of old rats. These findings suggest that low doses of THC can slow down the aging process (Sarne Y, 2018).\n",
    "\n",
    "The plant Cannabis sativa is a natural producer of Tetrahydrocannabinolic acid (THCA). An commercial alternative is the heterologous biosynthesis of THCA in the yeast Aspergilius niger based on genes from Cannabis sativa and Sterptomyces spp, see figure 1 for the corresonding pathway. Pyruvate, isopentenyl diphosphate (IPP)/Dimethylallyl diphosphate (DMAPP) and olivetolic acid are important precursors for THCA biosynthesis, respectively produced by the mevalonate and olivetolic acid pathways. IPP together with DMAPP are converted into Geranyl diphosphate (GPP) by GPP synthase (GPPS). The last step in the Olivetolic acid pathway is the formation of olivetolic acid from hexanoyl-CoA with three malonyl-CoA by the combination of the enzymes olivetolic acid cyclase (OAC) and olivetol synthase (OLS). OAC is needed, because OLS is not able to produce olivetol by itself. The final steps are carried out by cannabinoid synthases (CBGAS and THCAS), ultimately forming THCA (Thomas, et al., 2020). THC can be obtained after non-enzymatically decarboxylation of THCA (Lange et al., 2015).\n",
    "\n",
    "![Biosynthetic pathway of THC](Pictures/THC_pathway.png)\n",
    "\n",
    "Figure 1: Biosynthetic pathway of Tetrahydrocannabinolic acid (THCA) in C. sativa where isopentenyl diphosphate (IPP)/dimetheyulallylphsophate (DMAPP) are synthesized by the MEP pathway and hexanoic acid by the fatty acid biosynthesis (Thomas, et al., 2020)."
   ]
  },
  {
   "cell_type": "markdown",
   "metadata": {},
   "source": [
    "### 1.2 Literature review of the cell factory\n",
    "\n",
    "Aspergillus niger is one of the most common and relevant fungal species since the observation of its citric acid overproduction in the beginning of the last century. Due to its metabolic flexibility with respect to commercially interesting substrates, there has been sustained research to elucidate and reproduce the metabolism of this organism in a genome-scale metabolic model (Brandl et al. 2018)\n",
    "\n",
    "**General advantages**\n",
    "\n",
    "Numerous are the advantages that make Aspergillus niger suitable for industrial production, and specifically for THC production.\n",
    "- **High number of biosynthetic gene clusters**: Aspergillus niger possesses a bulk warehouse of prolific genes, which involve in regulation of primary and secondary metabolisms.\n",
    "- **Well-known for its high production capacity of secondary metabolites (SMs)**: Several of its strains have been applied in many fields, covering agriculture, food and pharmaceutical industries. For instance, citric acid, an incredible organic acid used in the food industry, has been produced on a large scale by A. niger 100 years ago (Li et al., 2020).\n",
    "- **One of the richest sources of bioactive SMs**: Aspergillus niger is an excellent enzyme producer, mainly proteases, which are widely used as detergents and food ingredients (e.g., acetylesterase, amylase, fucosidase). \n",
    "- **Available CRISPR-Cas9 system for Aspergillus niger**:  an efficient protocol for gene inactivation and knockout, gene insertion, base editing, promoter replacement, and regulation of gene expression in Aspergillus niger is developed (Nødvig et al., 2018).\n",
    "- **High SMs secretion capacity**: as a filamentous fungi, Aspergillus niger’s thread-like mycelia allows for environment colonization with a low biomass needed. For the same reason, it is specialized in secreting acids and digestive proteins to the environment via spitzenkörper. This is a collection of vesicles containing proteins, metabolites and other intracellular components, which are secreted by the fungus.\n",
    "- **Easier and cheaper downstream processing**: due to its high capacity for SMs secretion, Aspergillus niger SM production does not involve cell disruption, wich is a step that largely increases downstream complexity and costs.\n",
    "\n",
    "\n",
    "\n",
    "**General disadvantages**\n",
    "\n",
    "The main disadvantage of Aspergillus niger is the increased viscosity produced by its filamentous branches, which decreases oxygen transfer and might limit SMs productivity in aerobic processes. Nevertheless, this should not be a problem as increased oxygen transfer industrial settings exist for such cases (Arnau, 2020).\n",
    "Regarding the downstream process, it should be carefully designed, as Aspergillus niger secrete numerous compounds that will need to be separated from THC. However, considering that the steps linked to cell disruption will be avoided, this does not constitute a big disadvantage.\n",
    "\n",
    "**Suitability of Aspergillus niger for THC production**\n",
    "\n",
    "All the previously mentioned advantages make Aspergillus niger very suitable for industrial production. Additionally, the presence of one of the crucial pathways for THC production (mevalonate pathway) in wild Aspergillus niger, makes it especially interesting. Only a small genomic modification will be required for its adaptation into a THC cell factory, which will be straightforward thanks to the specific CRISPR-Cas9 protocols published.\n",
    "With Aspergillus niger, THC production will be easy and cheap for three main reasons. First, it can use a broad range of carbon sources, which can open the possibility to use food waste sources. Second, downstream processes are incredibly reduced in complexity due to the THC secretion. Third, THC products do not require high purity levels.\n",
    "\n",
    "**Alternative cell factories**\n",
    "\n",
    "Other suitable cell factories could be Saccharomyces cerevisiae and Kluyveromyces marxianus. Both have already proven to be able to produce THC (add reference) at a small scale. However, its productivity was low. Aspergillus niger was not yet used for THC production, which made it very interesting due to the numerous advantages it has as a cell factory.\n"
   ]
  },
  {
   "cell_type": "markdown",
   "metadata": {},
   "source": [
    "## 2. Problem definition\n",
    "\n",
    "The production of THC in plants is not ideal. The growth of *Cannabis sativa* depends on unreliable factors such as weather, making a constant production not always guaranteed. Recombinant THC production in *Aspergillus niger* ensures constant production. The heterologous THC production in cell factories has already been proven to work. Thomas et al. (2020) showed heterologous THC production in *Saccharomyces cerevisiae*. However, they reported very low yields, thus making the heterologous THC production economically non-viable. \n",
    "Producing THC using *C. sativa* is quite labor intensive and the plants occupy relatively high amounts of land. Using a cell factory such as *Aspergillus niger* which is cultivated in bioreactors consumes less land, no fertilizers and requires less labor. However, there are still several problems that are adressed in this report. The first problem that is assesed in this report is whether or not *A. niger* is able to produce recombinant THC in the first place. Even though it was proven to work for *S. cerevisea* does not mean it also works for *A. niger*. Secondly, different computer-aided cell factory engineering strategies are performed to find new strains that are able to produce THC with a higher yields. "
   ]
  },
  {
   "cell_type": "markdown",
   "metadata": {},
   "source": [
    "## 3. Selection and assessment of existing GSM\n",
    "*A. niger* is not able to produce THC on it's own. Therefore, it was necessary to find the metabolites and reactions that have to be added. In order to simulate heterologous THC production, an existing Genomic Scale Model (GSM) of Aspergillus niger was chosen. There were several models available and they are summarized in the table below. \n",
    "\n",
    "| GEM | Description |\n",
    "| ----------- | ----------- |\n",
    "| ATCC1015 | Wildtype strain |\n",
    "| CBS513.88 | Industrial strain |\n",
    "\n",
    "\n",
    "Though there were many other GEMs abvailable for *Aspergillus niger* only these two, published by Brandl et al. (2018), were considered, because they contain information of most GEMs that were previously available, namely: iHD666, CoReCo  and iHL1210. For the creation of both ATCC 1015 and CBS 513.88 strains the iJB1325 model was reconstructed using 876 publications. Reactions, metabolites and genes were added to the model. So far in 2023, no new GEMs have been published. The CBS 513.88 strain was chosen for the cell-factory engineering as it is a industrial strain and the aim is to use the *A. niger* as a cell factory. The CBS513.88 strain was obtained thanks to the efforts of DSM and their collaborators (MycoCosm. (n.d.)). The strain is mainly used to produce pharmaceuticals, acids, enzymes and food products. The many experiences working with CBS513.88 makes it a suitable strain to work with as GSM model.\n",
    "\n",
    "To compare the CBS513.88 model with other GSM models of *A. niger* , MEMOTE , which is a metabolic scale test-suite, was used (Lieven et al., 2020). The report, which was published as a HTML file can be found in the 'Analysis folder'. The results are summarized  in the table below. Four metabolic models that were publicly available were compared: ATCC1015, CBS513.88, CoReCo (Pitkänen et al., 2014), iHD666 (David et al., 2008)  and iMA871 (Andersen et al., 2008). \n",
    "\n",
    "|-|ATCC1015|CBS513.88|CoReCo|iHD666|iMA871|\n",
    "|-|--------|------|------|------|------|\n",
    "|SBML type|Level 3 v1|Level 3 v1|level 2 v4|Level 3 v1|Level 3 v1|\n",
    "|Consistency score (%)|42|42|57|29|23|\n",
    "|Reaction annotation score (%)|48|48|56|25|25|\n",
    "|Metabolite annotation score (%)|62|62|25|25|25|\n",
    "|Total score (%)|24|24|28|15|13|\n",
    "\n",
    "From the MEMOTE analysis it was found that the CoReCo model had the best overall score. However, because the CoReCo model scored very low on metabolite annotation, which is regarded as one of the most important properties of the model, CBS513.88 was considered the most suited GSM model for this experiment. Furthermore, the total score percentile difference between CCS513 and CoReCo is relatively low compared to the older GSM models iHD666 and iMA871. Thus, the CBS513.88 GSM model was chosen for the computer-aided cell factory engineering. "
   ]
  },
  {
   "cell_type": "markdown",
   "metadata": {},
   "source": [
    "## 4. Computer-Aided Cell Factory Engineering (<1500 words if Category II project; <500 words for Category I project)\n",
    "\n",
    "### 4.1. Adding the heterologous THC production pathway to CBS513.88\n",
    "In order for *Aspergillus niger* CBS513.88 to be able to make THC several metabolites and reactions had to be added to the existing GSM model. The following reactions and metabolites were identified to be missing in the model: \n",
    "\n",
    "***\n",
    "#### metabolites to be added (Kegg):\n",
    "- Olivetolic Acid (OA) - C12H16O4 \n",
    "- Dimethylallyl pyrophosphate (DMAPP) -  C5H12O7P2 \n",
    "- Cannabigerolic acid (CBGA) - C22H32O4 \n",
    "- Tetrahydrocannabinolic acid (THCA) - C22H30O4 \n",
    "\n",
    "#### Reactions to be added (BRENDA/Kegg): \n",
    "\n",
    "- Hexanoyl-coA + 3 malonyl-CoA -> Olivetoic acid (OA)                                                    \n",
    "- Dimethylallyl diphosphate (DMAPP) + IPP -> Geranyl diphosphate (GPP)    \n",
    "- Geranyldiphosphate (GPP) + Olivetolic acid (OA) -> cannabigerolic acid (CBGA)                          \n",
    "- cannabigerolic acid (CBGA) -> Tetrahydrocannabinolic acid (THCA)                                    \n",
    "- Tetrahydrocannabinolic acid (THCA) ->                                            \n",
    "-  IPP -> DMPP                                                                      \n",
    "\n",
    "#### Enzymes that catalyze the reactions (BRENDA):\n",
    "- Olivetol synthase (OLS)&nbsp;&nbsp;&nbsp;&nbsp;&nbsp;&nbsp;&nbsp;&nbsp;&nbsp;&nbsp;&nbsp;&nbsp;&nbsp;Gene:   OC115699293\n",
    "- Olivetolic acid cyclase (OAC)&nbsp;&nbsp;&nbsp;&nbsp;  Gene:   OC115723438 \n",
    "- CBGA synthase (CBGAS)&nbsp;&nbsp;&nbsp;&nbsp; &nbsp;&nbsp;&nbsp;&nbsp;&nbsp;&nbsp;         Gene:   PT4-T\n",
    "- THCA synthase (THCAS) &nbsp;&nbsp;&nbsp;&nbsp;&nbsp;&nbsp;&nbsp;&nbsp;&nbsp;&nbsp;\t     Gene:   SAPIO_CDS2003\n",
    "- GPP synthase (GPPS)  &nbsp;&nbsp;&nbsp;&nbsp;  &nbsp;&nbsp;&nbsp;&nbsp;&nbsp;&nbsp;&nbsp;&nbsp;&nbsp;&nbsp;        Gene:   ERG20 (S. cerevisiea)\n",
    "- Isopentenyl-diphosphate isomerase Gene: fcd1 (Solanum lycopersicum)\n",
    "***\n",
    "\n",
    "The script can be found here: "
   ]
  },
  {
   "cell_type": "code",
   "execution_count": 4,
   "metadata": {},
   "outputs": [
    {
     "data": {
      "text/html": [
       "<a href='Analysis/model.ipynb' target='_blank'>Analysis/model.ipynb</a><br>"
      ],
      "text/plain": [
       "c:\\Users\\lwdeg\\github-classroom\\27410\\group-assingment-group-05-thc-production-in-yeast\\Analysis\\model.ipynb"
      ]
     },
     "execution_count": 4,
     "metadata": {},
     "output_type": "execute_result"
    }
   ],
   "source": [
    "FileLink('Analysis/model.ipynb')"
   ]
  },
  {
   "cell_type": "markdown",
   "metadata": {},
   "source": [
    "### 4.2. Model optimization\n",
    "\n",
    "After adding the metabolites and reactions to the model, the model was computationally optimized in order to maximize THC production. The resuts are summarized in the table below:\n",
    " |maximized reaction|Production rate (mmol/gDW/h)|Maximum theoretical yield (mmol-THC/mmol-glc)|\n",
    " |------------------|----------------------------|---------------------------------------------|\n",
    " |THCAS             |3.557                       | 0.3557                                      |\n",
    "\n",
    "This shows that in silico THC production using *Aspergillus niger* is possible. "
   ]
  },
  {
   "cell_type": "code",
   "execution_count": 5,
   "metadata": {},
   "outputs": [
    {
     "data": {
      "text/html": [
       "<a href='Analysis/theoretical_yield.ipynb' target='_blank'>Analysis/theoretical_yield.ipynb</a><br>"
      ],
      "text/plain": [
       "c:\\Users\\lwdeg\\github-classroom\\27410\\group-assingment-group-05-thc-production-in-yeast\\Analysis\\theoretical_yield.ipynb"
      ]
     },
     "execution_count": 5,
     "metadata": {},
     "output_type": "execute_result"
    }
   ],
   "source": [
    "FileLink('Analysis/theoretical_yield.ipynb')"
   ]
  },
  {
   "cell_type": "markdown",
   "metadata": {},
   "source": [
    "### 4.3. Medium optimization\n",
    "In order to further improve the THC production in the current model, the change in yield using different carbon sources were explored. Sometimes the use of different carbon sources can increase the yield of THC production. Furthermore, glucose is a very common but not so sustainably carbon source. The use of alternative carbon sources that are usually treated as waste or side-products contributes to a more sustainable cell-factory design. As was previously discussed the filamentous *Aspergillus niger* is a micro-organism which is able to use complex carbon sources. One such example is the use of cotton waste products (Kiel et al., 1981). In order to asses the effect of using different carbon sources, the medium was changed and the maximum theoretical yield were recalculated. The results are summarized in the table below:\n",
    "\n",
    "|Carbon source|THC-production (mmol/gDw/h)|Maximum yield (mmol-THC/mmol-C_source)| \n",
    "|-------------|---------------------------|--------------------------------------|\n",
    "|Glucose|3.56|0.356|\n",
    "|Succinate|1.82|0.182|\n",
    "|Fructose|3.56|0.356|\n",
    "|Fumarate|1.78|0.178|\n",
    "|Glutamine|2.67|0.267|\n",
    "|Glutamate|2.67|0.267|\n",
    "|Sucrose|7.11|0.711|\n",
    "|Lactate|1.71|0.171|\n",
    "|Malata|1.78|0.178|\n",
    "|Pyruvate|1.48|0.148|\n",
    "\n",
    "The results show that sucrose would give the highest production rate and yield if it would be used a sole carbon source. However, sucrose is chemically identical as fructose and sucrose when hydrolized. Thus these carbon sources were considered as identical and would not necesarrily improve yield nor THC-production. Nevertheless, the results also showed promising production rate and yield when using glutamate as a carbon source. Though it does not perform as wel as glucose considering it's chemical composition is vastly different from glucose it's potential use as an alternative should be taken into account. If glutamate proves to be more readily available as a carbon source a mixture of glucose and glutamate is proposed as a solution to minimally reduce THC-production whilst using an alternative carbon source. As glutamine is an amino acid, the use of protein rich biological waste might be a viable strategy to obtain THC from waste. \n",
    "\n",
    "To finalize growth optimization literature studies were performed to find the best suited medium composition for CBS513.88. Hamad et al. (2015) showed that fructose is the most suited carbon source as it's usibility is the highest compared to glucose, maltose, sucrose and starch. Furthermore, several studies showed that the use of yeast extract as a nitrogen source had a positive effect on growth and production of different extracellular products and thus were also considered as a method for increasing THC production(Germeç et al., 2019;Lee & Chen, 1997). However, as THC is a totally different product the *in vivo* effect has to be experimentally determined yet. "
   ]
  },
  {
   "cell_type": "code",
   "execution_count": 6,
   "metadata": {},
   "outputs": [
    {
     "data": {
      "text/html": [
       "<a href='Analysis/theoretical_yield.ipynb' target='_blank'>Analysis/theoretical_yield.ipynb</a><br>"
      ],
      "text/plain": [
       "c:\\Users\\lwdeg\\github-classroom\\27410\\group-assingment-group-05-thc-production-in-yeast\\Analysis\\theoretical_yield.ipynb"
      ]
     },
     "execution_count": 6,
     "metadata": {},
     "output_type": "execute_result"
    }
   ],
   "source": [
    "#the script for calculating the maximum theoretical yield can be found here:\n",
    "FileLink('Analysis/theoretical_yield.ipynb')"
   ]
  },
  {
   "cell_type": "markdown",
   "metadata": {},
   "source": [
    "### 4.5. OptKnock\n",
    "The OptKnock algorithm is used in metabolic engineering to optimize the production of a specific compound in microorganisms. It involves constructing a metabolic network model, setting an objective function (usually production rate), and identifying gene deletions that enhance the objective. The algorithm provides genetic modification suggestions for improved production, reducing the need for trial and error in the lab.\n",
    "\n",
    "When running OptKnock with our model, it proposed 4 different gene knockouts (see table below). \n",
    "|reaction| stoichiometry|\n",
    "|--------|--------------|\n",
    "|r236| H20 + PPI --> 2 PI|\n",
    "|r136| E + NADPH <=> EOL + NADP and D-Erythrose + NADPH <=> Erythritol + NADP+|\n",
    "|r1010| 4.0 Acetyl coenzyme A + Malonyl coenzyme A + L-Phenylalanine --> 5.0 Coenzyme A + Ochratoxin A|\n",
    "|r2002|m-Cresol + NADPH + Oxygen --> Water + NADP+ + Toluquinol|\n",
    "\n",
    "r236 was found to be essential for growth, therefore this target was directly discarded. The r236 reaction is an essential reaction because r236 makes *A. niger* dependent of having phosphates (Pi) in the medium as it uses pyrophosphate as a substrate to generate phosphate molecules.Reaction r136 was not an essential gene, but did have an reduced impact on growth. The other two reactions (r2002 and r1010) can be knocked out without creating any issue: one is related to the production of a biotoxin, and the other is part of the fatty acid biosynthesis. The results from Optknock are given in the table below:\n",
    "\n",
    "|\treactions\t|size|\tTHCAS|\tbiomass\t|fva_min\t|fva_max|\n",
    "|---------------|----|-------|----------|-----------|-------|\n",
    "|\t{r2002, r1010, r236, r136}\t|4|\t3.557348|\t-0.0|\t3.521774|\t3.557348|\n",
    "\n",
    "\n"
   ]
  },
  {
   "cell_type": "markdown",
   "metadata": {},
   "source": [
    "### 4.6. OptGene\n",
    "OptGene is a computational method used to optimize metabolic pathways in microorganisms to enhance the production of specific compounds. The method employs genetic algorithms to identify beneficial genetic modifications. It works in conjunction with genome-scale metabolic models of organisms like bacteria or yeast.\n",
    "\n",
    "\n",
    "When running OptGene with our model, it did not propose any model optimization.\n",
    "\n"
   ]
  },
  {
   "cell_type": "markdown",
   "metadata": {},
   "source": [
    "### 4.7. Gene up-regulation strategies\n",
    "Flux Scanning based on Objective Flux (FBA-OF) is a computational algorithm using a metabolic network model and an objective function (e.g., maximizing compound production) to scan gene perturbations. FBA-OF identifies specific genes to upregulate or downregulate, aiming to optimize the desired cellular objective.\n",
    "\n",
    "When FBA-OF was run with our model, it proposed several genes that could be over expressed to increase THCA production:\n",
    "\n",
    "- The genes r861 - r865 code for enzymes taking part in the mevalonate pathway. While the mevalonate pathway precedes the biosynthetic pathway of THCA, increasing of these fluxes are a logical cause for a higher flux of THCAS. The same holds for the enzymes taking part of the biosynthetic pathway of THCA: GPPS, DMAPPS and CBGAS. \n",
    "\n",
    "- r1095 shows the highest flux increase and represents the uptake reaction of pyruvate by the cells. Pyruvate is a precursor for a lot of processes in the cell and also to make acetyl-CoA, which is the precursor for the mevalonate pathway, followed by the THCA biosynthesis. \n",
    "\n",
    "- Acetyl CoA C-acetyltransferase (r671) shows a significant flux increase, generating more acetyl CoA from acetyl coenzyme A. \n",
    "\n",
    "- r1905 and r1906 are responsible for the reversible conversion of Acetyl CoA and carnitine in Acetyl-carnitine and CoA in the mitochondria, respectively the cytosol.\n",
    "Acetyl-CoA is the precursor for the mevalonate pathway and therefore desired in high amounts in the cytosol. Induction of the conversion of acetyl CoA in the cytosol ((-)r1906) is stimulated by induction of transport carnitine to the cytosol ((-) r1907) and increasing of the flux which which breaks down carnitine in the mitochondria ((+)r1905)\n",
    "\n",
    "- Only when the flux of THCAS is multiplied with 8 or more, pyruvate decarboxylase (r19) obtains flux. This means less pyruvate is available for obtaining acetyl-CoA. A possible explanation for this observation is that this reaction is necessary to replenish the citric acid cycle metabolites to allow sufficient aerobic fermentation to generate ATP."
   ]
  },
  {
   "cell_type": "markdown",
   "metadata": {},
   "source": [
    "![Biosynthetic pathway of THC](Pictures/FSBOEOF1.png)"
   ]
  },
  {
   "cell_type": "markdown",
   "metadata": {},
   "source": [
    "![Biosynthetic pathway of THC](Pictures/FSBOEOF.png)"
   ]
  },
  {
   "cell_type": "markdown",
   "metadata": {},
   "source": [
    "### 4.8. Dynamic Flux Balance Analysis"
   ]
  },
  {
   "cell_type": "markdown",
   "metadata": {},
   "source": [
    "Dynamic Flux Balance Analysis was used to simulate the production of THCA by the modified *Aspergilius* in a batch fermentation. The *Aspergilius* was grown using glucose as the carbon source and the model objective was set to maximise the production of THCA. \n",
    "\n",
    "The results showed that from 20 g/L of glucose 14 g/L of THCA was produced, which equals a yield of 0.356 mmol THCA / mmol Glucose. This is the same as the yield calculated in the model optimisation. Furthermore, the biomass concenration remained 1 g/L for the whole simulation, meanig no growth happened. This is caused by the model objective, as maximizing THCA production sets the biomass production to zero. However the phenotepic phase planing shows that it is possible to both produce biomass and THCA at the same time. Lastly it shows that THCA was produced at a rate of 3.7 mmol/gDw/h, which is a bit higher than the rate found earlier in the model optimisation. However this still corresponds as the glucose uptake rate is also higher, at 10.5 mmol/gDw/h."
   ]
  },
  {
   "cell_type": "code",
   "execution_count": 1,
   "metadata": {},
   "outputs": [
    {
     "ename": "NameError",
     "evalue": "name 'FileLink' is not defined",
     "output_type": "error",
     "traceback": [
      "\u001b[1;31m---------------------------------------------------------------------------\u001b[0m",
      "\u001b[1;31mNameError\u001b[0m                                 Traceback (most recent call last)",
      "\u001b[1;32m~\\AppData\\Local\\Temp/ipykernel_16288/1217316438.py\u001b[0m in \u001b[0;36m<module>\u001b[1;34m\u001b[0m\n\u001b[0;32m      1\u001b[0m \u001b[1;31m#Complete code for the Dynamic Flux Balance Analysis\u001b[0m\u001b[1;33m\u001b[0m\u001b[1;33m\u001b[0m\u001b[0m\n\u001b[1;32m----> 2\u001b[1;33m \u001b[0mFileLink\u001b[0m\u001b[1;33m(\u001b[0m\u001b[1;34m'Analysis/DFBA.ipynb'\u001b[0m\u001b[1;33m)\u001b[0m\u001b[1;33m\u001b[0m\u001b[1;33m\u001b[0m\u001b[0m\n\u001b[0m",
      "\u001b[1;31mNameError\u001b[0m: name 'FileLink' is not defined"
     ]
    }
   ],
   "source": [
    "#Complete code for the Dynamic Flux Balance Analysis\n",
    "FileLink('Analysis/DFBA.ipynb')"
   ]
  },
  {
   "cell_type": "markdown",
   "metadata": {},
   "source": [
    "### 4.9. Co-factor swap targets\n",
    "No co-factor swap showed further optimization to the model."
   ]
  },
  {
   "cell_type": "markdown",
   "metadata": {},
   "source": [
    "## 5. Discussion (<500 words)\n",
    "Assuming that the enzymes introduced in the heterologous pathway keep their biological function when expressed in A. niger and do not cross react with any of the wild enzymes, this project proposes a number of promising strategies to increase cell-based THCA productivity. \n",
    "\n",
    "First of all, in order to set a background, it is important to mind that the maximum in silico production yield found in literature was accomplished in Saccharomyces cerevisiae (0.0086 molTHCA/molGLC) (Thomas, 2020), which is extremely low, and the reason why no further studies were made on cell-based THCA production. However, the in-depth research performed in A. niger as a cell factory in the last three years made us confident on using it to improve Thomas J. et al numbers. \n",
    "\n",
    "The maximum production yield that our model reaches by only introducing the heterologous pathway (exactly the same one as Thomas J. et al) and optimizing it, is 0.3557 molTHCA/molGLC, which is already 41 times higher than what Thomas J. et al could accomplish. Here, we can already see the potential of A. niger in metabolite production itself and why it is considered an industrial workhorse.\n",
    "\n",
    "Regarding the predictive strain designs using simulations, the results from OptKnock raise the possibility to knockout two genes, one of which is only essential if no phosphate is included in the media. With respect to OptGene, no optimized design is found. This is probably because we only run 20000 counts. In future studies, if higher computational power is available, a higher amount of counts should be run, and most surely promising results would also arise.\n",
    "\n",
    "With regards to the medium optimization, both sucrose- and glucose-based media provide the maximum theoretical yields. Nevertheless, it is well known that YEPD media brings more stability to the cells in vivo even if the in silico theoretical yield is lower than using only sucrose or glucose.\n",
    "\n",
    "Moreover, overexpressing the genes related with the mevalonate pathway in addition to the genes related to the Acetyl-CoA production (r671, r1095, r1905), a crucial pathway linked to the mevalonate one and therefore required for THCA production would theoretically increase the THCA production up to 70%. However, overexpressing these genes could have detrimental effects on the cells, which would have to be studied in vivo.\n",
    "\n",
    "\n",
    "Moreover, by using the strategies mentioned in previous sections, we can potentially raise even more the production yield, being our top 6 designs to be implemented the following ones:\n",
    "\n",
    "1- Knocking out gene 1123435, encoding for m-Cresol hydroxylase\n",
    "\n",
    "2- Knocking out gene 1123435 and 1101910, encoding for glycerol dehydrogenase, and adding a phosphate source in the media.\n",
    "\n",
    "3- Genes overexpression: r861 and r865 (mevalonate pathway); GPPS, DMAPPS and CBGAS (THCA pathway); r1095 (uptake reaction of pyruvate by the cells); r671 (Acetyl CoA C-acetyltransferase); r1905 and r1906 (reversible conversion of Acetyl CoA and carnitine in Acetyl-carnitine and CoA in the mitochondria); and r19 (pyruvate decarboxylase).\n",
    "\n",
    "4- Using YEPD-based medium with glucose as carbon course.\n",
    "\n",
    "Feasibility-wise, assuming that the price of the glucose is currently 200€/ton, and that the theoretical yield is actually 0.3557 molTHCA/molGLC (0.62g THCA/ g GLC), the cost (only including glucose) of THCA production would be 0.32€/kg THCA, much lower than the current 50€/g (50000€/kg) and doing the process extremely profitable even if the high-cost downstream processes are added.\n"
   ]
  },
  {
   "cell_type": "markdown",
   "metadata": {},
   "source": [
    "## 6. Conclusion (<200 words)\n",
    "Considering the high price and demand that THCA has in the market, together with the current low-efficient way of producing it, a cell-factory design for high THCA production is more than needed and will find its place in the market. In this project, we have gone through different strategies to optimize THCA production yield using a well-known industry workhorse (A.niger). Several targets for gene knockouts and gene up-regulations have been proposed, as well as different growth media, which promise to improve even more the yield.\n",
    "\n",
    "Although our study is purely based in in silico tools and still holds uncertainty about the yield value in vivo, the market need and the theoretical profit to be made pushed forward to validate these results in the lab and hopefully start thinking about the upscaling design.\n",
    "\n"
   ]
  },
  {
   "cell_type": "markdown",
   "metadata": {},
   "source": [
    "## References"
   ]
  },
  {
   "cell_type": "markdown",
   "metadata": {},
   "source": [
    "1.\tAlbaugh, M. D., Ottino-Gonzalez, J., Sidwell, A., Lepage, C., Juliano, A., Owens, M. M., Chaarani, B., Spechler, P., Fontaine, N., Rioux, P., Lewis, L., Jeon, S., Evans, A., D’Souza, D., Radhakrishnan, R., Banaschewski, T., Bokde, A. L. W., Quinlan, E. B., Conrod, P., … Garavan, H. (2021). Association of Cannabis Use During Adolescence With Neurodevelopment. JAMA Psychiatry, 78(9), 1031–1040. https://doi.org/10.1001/JAMAPSYCHIATRY.2021.1258\n",
    "2.\tAndersen, M. R., Nielsen, M. L., & Nielsen, J. (2008). Metabolic model integration of the bibliome, genome, metabolome and reactome of Aspergillus niger. Molecular Systems Biology, 4(1). https://doi.org/10.1038/msb.2008.12\n",
    "3.\tBrandl, J., Aguilar-pontes, M. V., Schäpe, P., Noerregaard, A., Arvas, M., Ram, A. F. J., Meyer, V., Tsang, A., de Vries, R. P., & Andersen, M. R. (2018). A community-driven reconstruction of the aspergillus niger metabolic network. Fungal Biology and Biotechnology, 5(1), 1–12. https://doi.org/10.1186/s40694-018-0060-7\n",
    "4.\tCosta, B. (2007). On the Pharmacological Properties of Δ 9 ‐Tetrahydrocannabinol (THC). Chemistry & Biodiversity, 4(8), 1664–1677. https://doi.org/10.1002/cbdv.200790146\n",
    "5.\tDavid, H., Özçelik, İ. Ş., Hofmann, G., & Nielsen, J. (2008). Analysis of Aspergillus nidulans metabolism at the genome-scale. BMC Genomics, 9(1), 163. https://doi.org/10.1186/1471-2164-9-163\n",
    "6.\tGermec, M., Gürler, H. N., Ozcan, A., Erkan, S. B., Karahalil, E., & Turhan, I. (2020). Medium optimization and kinetic modeling for the production of Aspergillus niger inulinase. Bioprocess and Biosystems Engineering, 43(2), 217–232. https://doi.org/10.1007/s00449-019-02219-1\n",
    "7.\tGrand Challenges in Biology and Biotechnology HelenaaNevalainenn Grand Challenges in Fungal Biotechnology. (n.d.). http://www.springer.com/series/13485\n",
    "8.\tHAMAD, H. O., ALMA, M. H., ISMAEL, H. M., & GÖÇERİ, A. (2015). The Effect of Some Sugars on the Growth of Aspergillus niger. Kahramanmaraş Sütçü İmam Üniversitesi Doğa Bilimleri Dergisi, 17(4), 7. https://doi.org/10.18016/ksujns.28479\n",
    "9.\tKiel, H., Guvrin, R., & Henis, Y. (1981). Citric Acid Fermentation by Aspergillus niger on Low Sugar Concentrations and Cotton Waste. Applied and Environmental Microbiology, 42(1), 1–4. https://doi.org/10.1128/aem.42.1.1-4.1981\n",
    "10.\tLange, K., Schmid, A., & Julsing, M. K. (2015). Δ9-Tetrahydrocannabinolic acid synthase production in Pichia pastoris enables chemical synthesis of cannabinoids. Journal of Biotechnology, 211, 68–76. https://doi.org/10.1016/j.jbiotec.2015.06.425\n",
    "11.\tLee, S.-L., & Chen, W.-C. (1997). Optimization of medium composition for the production of glucosyltransferase by Aspergillus niger with response surface methodology. Enzyme and Microbial Technology, 21(6), 436–440. https://doi.org/10.1016/S0141-0229(97)00016-1\n",
    "12.\tLi, M., Yu, R., Bai, X., Wang, H., & Zhang, H. (2020). Fusarium: A treasure trove of bioactive secondary metabolites. In Natural Product Reports (Vol. 37, Issue 12, pp. 1568–1588). Royal Society of Chemistry. https://doi.org/10.1039/d0np00038h\n",
    "13.\tLieven, C., Beber, M. E., Olivier, B. G., Bergmann, F. T., Ataman, M., Babaei, P., Bartell, J. A., Blank, L. M., Chauhan, S., Correia, K., Diener, C., Dräger, A., Ebert, B. E., Edirisinghe, J. N., Faria, J. P., Feist, A. M., Fengos, G., Fleming, R. M. T., García-Jiménez, B., … Zhang, C. (2020). MEMOTE for standardized genome-scale metabolic model testing. Nature Biotechnology, 38(3), 272–276. https://doi.org/10.1038/s41587-020-0446-y\n",
    "14.\tNødvig, C. S., Nielsen, J. B., Kogle, M. E., & Mortensen, U. H. (2015). A CRISPR-Cas9 system for genetic engineering of filamentous fungi. PLoS ONE, 10(7). https://doi.org/10.1371/journal.pone.0133085\n",
    "15.\tPitkänen, E., Jouhten, P., Hou, J., Syed, M. F., Blomberg, P., Kludas, J., Oja, M., Holm, L., Penttilä, M., Rousu, J., & Arvas, M. (2014). Comparative Genome-Scale Reconstruction of Gapless Metabolic Networks for Present and Ancestral Species. PLoS Computational Biology, 10(2), e1003465. https://doi.org/10.1371/journal.pcbi.1003465\n",
    "16.\tSarne, Y. (2018). THC for age-related cognitive decline? Aging, 10(12), 3628–3629. https://doi.org/10.18632/aging.101648\n",
    "17.\tSchrot, R. J., & Hubbard, J. R. (2016). Cannabinoids: Medical implications. Annals of Medicine, 48(3), 128–141. https://doi.org/10.3109/07853890.2016.1145794\n",
    "18.\tThomas, F., Schmidt, C., & Kayser, O. (2020). Bioengineering studies and pathway modeling of the heterologous biosynthesis of tetrahydrocannabinolic acid in yeast. Applied Microbiology and Biotechnology, 104(22), 9551–9563. https://doi.org/10.1007/s00253-020-10798-3\n",
    "19.\tMycoCosm. (n.d.). Home • Aspergillus niger CBS 513.88. Retrieved November 30, 2023, from https://mycocosm.jgi.doe.gov/Aspni_DSM_1/Aspni_DSM_1.home.html\n",
    "20.\tYu, R., Liu, J., Wang, Y., Wang, H., & Zhang, H. (2021). Aspergillus niger as a Secondary Metabolite Factory. Frontiers in Chemistry, 9. https://doi.org/10.3389/fchem.2021.701022\n",
    "\n"
   ]
  }
 ],
 "metadata": {
  "kernelspec": {
   "display_name": "anaconda3_20231119",
   "language": "python",
   "name": "python3"
  },
  "language_info": {
   "codemirror_mode": {
    "name": "ipython",
    "version": 3
   },
   "file_extension": ".py",
   "mimetype": "text/x-python",
   "name": "python",
   "nbconvert_exporter": "python",
   "pygments_lexer": "ipython3",
   "version": "3.9.7"
  }
 },
 "nbformat": 4,
 "nbformat_minor": 4
}
