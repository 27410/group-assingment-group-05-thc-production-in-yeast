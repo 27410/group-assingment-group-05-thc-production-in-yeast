{
 "cells": [
  {
   "cell_type": "code",
   "execution_count": 2,
   "metadata": {},
   "outputs": [],
   "source": [
    "from IPython.display import FileLink, FileLinks"
   ]
  },
  {
   "cell_type": "markdown",
   "metadata": {},
   "source": [
    "# Production of THC by Aspergillus niger"
   ]
  },
  {
   "cell_type": "markdown",
   "metadata": {},
   "source": [
    "## 1. Introduction"
   ]
  },
  {
   "cell_type": "markdown",
   "metadata": {},
   "source": [
    "### 1.1 Literature review of the compound (<500 words)"
   ]
  },
  {
   "cell_type": "markdown",
   "metadata": {},
   "source": [
    "Δ9-Tetrahydrocannabinol (THC) is the main component of cannabis and is used for medical purposes for a long time. The most evidence exists for the effectiveness of THC for chronic cancer pain and neuropathic pain. Two brain receptors are known which have an affinity for TCH: THC cannabinoid receptor type 1 and 2 (CB1 and CB2), where CB2 has a lower affinity for TCH than CB1. Outside the brain CB1 is also found in body systems such as the gastrointestinal, visual and cardiovascular systems. CB2 is also found in tissues of the immune system (lymphatic tissue, spleen, and macrophages) (Costa B., 2007). \n",
    "The market for medical or recreational use of THC is strongly dependent on legalization. At this moment the cannabinoid drugs Dronabinol and Nabilone are approved by the US Food and Drug Administration (FDA). Dronabinol is a synthesized THC and is used for treatment of anorexia in human immunodeficiency virus (HIV) patients. Nabilone is a synthetic THC analog. Both are used in treatment in cancer patients which suffer from chemotherapy-associated nausea and vomiting when standard therapies fail. Nabiximols is a 1:1 mixture of purified marijuana plant constituents THC and cannabidiol (CBD) and is approved in Europe and Canada, but not by the FDA. The drug is used for adjunctive therapy for pain management and spasticity. The fact that certain THC medications are not approved is due to the potentially addictive and other adverse effects of THC, such as low toxicity (Schrot et al., 2016).\n",
    "Evidence exists for disrupting effects of cannabis on adolescent brain development by, but has a positive effect on the adults brains. This is caused by the development of more neural connections in adult brain regions associated with memory and learning (Albaugh et al., 2021). Moreover, a recent study found that chronic treatment with THC restored cognitive functions in aging mice, which is in line with the finding that an agonist WIN-55212-2 improved the memory of old rats. These findings suggest that low doses of THC can slow down the aging process (Sarne Y, 2018).\n",
    "The plant Cannabis sativa is a natural producer of Tetrahydrocannabinolic acid (THCA). An commercial alternative is the heterologous biosynthesis of THCA in the yeast Aspergilius niger based on genes from Cannabis sativa and Sterptomyces spp. See figure # for the corresonding pathway. Besides pyruvate, isopentenyl diphosphate (IPP)/Dimethylallyl diphosphate (DMAPP) and olivetolic acid are important precursors for THCA biosynthesis, respectively produced by the mevalonate and olivetolic acid pathways. IPP together with DMAPP are converted into Geranyl diphosphate (GPP) by GPP synthase (GPPS). The last step in the Olivetolic acid pathway is the formation of olivetolic acid from hexanoyl-CoA with three malonyl-CoA by the combination of the enzymes olivetolic acid cyclase (OAC) and olivetol synthase (OLS). OAC is needed, because OLS is not able to produce olivetol by itself. The final steps are carried out by cannabinoid synthases (CBGAS and THCAS), ultimately forming THCA (Thomas, et al., 2020)\n",
    "\n",
    "![Biosynthetic pathway of THC](Pictures/THC_pathway.png)\n",
    "\n",
    "Biosynthetic pathway of Tetrahydrocannabinolic acid (THCA) in C. sativa where isopentenyl diphosphate (IPP)/dimetheyulallylphsophate (DMAPP) are synthesized by the MEP pathway and hexanoic acid by the fatty acid biosynthesis (Thomas, et al., 2020)."
   ]
  },
  {
   "cell_type": "markdown",
   "metadata": {},
   "source": [
    "### 1.2 Literature review of the cell factory (<500 words)\n",
    "\n",
    "Aspergillus niger is one of the most common and relevant fungal species since the observation of its citric acid overproduction in the beginning of the last century. Due to its metabolic flexibility with respect to commercially interesting substrates, there has been sustained research to elucidate and reproduce the metabolism of this organism in a genome-scale metabolic model (Brandl et al. 2018)\n",
    "**General advantages**\n",
    "Numerous are the advantages that make Aspergillus niger suitable for industrial production, and specifically for THC production.\n",
    "-   \tHigh number of biosynthetic gene clusters: Aspergillus niger possesses a bulk warehouse of prolific genes, which involve in regulation of primary and secondary metabolisms.\n",
    "-   \tWell-known for its high production capacity of secondary metabolites (SMs): Several of its strains have been applied in many fields, covering agriculture, food and pharmaceutical industries. For instance, citric acid as one of incredible organic acids in food industry had been produced on a large scale by A. niger 100 years ago (Li et al., 2020).\n",
    "-   \tOne of the richest sources of bioactive SMs: Aspergillus niger is an excellent enzyme producer, mainly proteases, which are widely used as detergents and food ingredients (e.g., acetylesterase, amylase, fucosidase). \n",
    "-   \tAvailable CRISPR-Cas9 system for Aspergillus niger:  an efficient protocol for gene inactivation and knockout, gene insertion, base editing, promoter replacement, and regulation of gene expression in Aspergillus niger was developed (Nødvig et al., 2018).\n",
    "-   \tHigh SMs secretion capacity: as a filamentous fungi, Aspergillus niger’s thread-like mycelia allows for environment colonization with a low biomass needed. For the same reason, it is specialized in secreting acids and digestive proteins to the environment via spitzenkörper, a collection of vesicles containing proteins, metabolites and other intracellular components to be secreted by the fungus.\n",
    "-   \tEasier and cheaper downstream processing: due to its high capacity for SMs secretion, Aspergillus niger SM production does not involve cell disruption, a step largely increasing downstream complexity and cost.\n",
    " \n",
    "**General disadvantages**\n",
    "The main disadvantage of Aspergillus niger is the increased viscosity produced by its filamentous branches, which decreases oxygen transfer and might limit SMs productivity in aerobic processes. Nevertheless, this should not be a problem as increased oxygen transfer industrial settings exist for such cases (Arnau, 2020).\n",
    "Regarding the downstream process, it should be carefully designed, as Aspergillus niger secrete numerous compounds that will need to be separated from THC. However, considering that the steps linked to cell disruption will be avoided, this does not constitute a big disadvantage.\n",
    " \n",
    "**Suitability of Aspergillus niger for THC production**\n",
    "All the previously mentioned advantages make Aspergillus niger very much suitable for industrial production. Additionally, the presence of one of the crucial pathways for THC production (mevalonate pathway) in wild Aspergillus niger, makes it especially interesting. Only a small genomic modification will be required for its adaptation into a THC cell factory, which will be straightforward thanks to the specific CRISPR-Cas9 protocols published.\n",
    "With Aspergillus niger, THC production will be easy and cheap for three main reasons. First, it can use a broad range of carbon sources, which can open the possibility to use even food waste sources. Second, downstream processes are incredibly reduced in complexity due to the THC secretion. Third, THC products do not require high purity levels.\n",
    " \n",
    "**Alternative cell factories**\n",
    "Other suitable cell factories would be Saccharomyces cerevisiae and Kluyveromyces marxianus. Both have already proven to be able to produce THC (add reference) at a small scale. However, its productivity was low. Aspergillus niger was not yet used for THC production, which made it very interesting due to the numerous advantages it has as a cell factory.\n"
   ]
  },
  {
   "cell_type": "markdown",
   "metadata": {},
   "source": [
    "## 2. Problem definition (<300 words)\n",
    "\n",
    "The production of THC in plants is not ideal. The growth of *Cannabis sativa* depends on factors such as weather and thus a constant production is not always guaranteed. Recombinant THC production in *Aspergillus niger* ensures constant production. The heterologous THC production in cell factories has already been proven to work. Thomas et al. (2020) showed heterologous THC production in *Saccharomyces cerevisiae*. However, they reported very low yields, thus making the heterologous THC production economically non-viable. \n",
    "Producing THC using *C. sativa* is quite labor intensive and the plants occupy relatively high amounts of land. Using a cell factory such as *Aspergillus niger* which is cultivated in bioreactors consumes less land and requires less labor. However, there are still several problems that have to are adressed in this report. The first problem that is assesed in this report is whether or not *A. niger* is able to produce recombinant THC in the first place. Even though it was proven to work for *S. cerevisea* does not mean it also works for *A. niger*. Secondly, different computer-aided cell factory engineering strategies are performed to find new strains that are able to produce THC with a higher yields. "
   ]
  },
  {
   "cell_type": "markdown",
   "metadata": {},
   "source": [
    "## 3. Selection and assessment of existing GSM (<500 words)\n",
    "As *A. niger* is not able to produce THC on it's own, it was necessary to find the metabolites and reactions that have to be added. In order simulate heterologous THC production, an existing Genomic Scale Model (GSM) of Aspergillus niger was chosen. There were several models available and they are summarized in the table below. \n",
    "\n",
    "| GEM | Description |\n",
    "| ----------- | ----------- |\n",
    "| ATCC1015 | Wildtype strain |\n",
    "| CBS513.88 | Industrial strain |\n",
    "\n",
    "\n",
    "Though there were many other GEMs abvailable for *Aspergillus niger* only these two were considered. The reason for this is because these models which were published by Brandl et al. (2018) contains information of most GEMs that were previously available, namely: iHD666, CoReCo  and iHL1210. For the creation of both ATCC 1015 and CBS 513.88 strains the iJB1325 model was reconstructed using 876 publications. Reactions metabolites and genes were added to the model and as of 2023 no new GEMs have been published so far. Because we want to use the *A. niger* as a cell factory, the CBS 513.88 strain was chosen for the cell-factory engineering as it is a industrial strain. The CBS513.88 strain was obtained thanks to the efforts of DSM and their collaborators (Home - Aspergillus Niger CBS 513.88, n.d.). The strain is mainly used to produce pharmaceuticals, acids, enzymes and food products. Because of this the CBS513.88 strain was chosen as a GSM for this project. \n",
    "\n",
    "To compare the CBS513.88 model with other GSM models of *A. niger* , MEMOTE , which is a metabolic scale test-suite, was used (Lieven et al., 2020). The report, which was published as a HTML file can be found in the 'Analysis folder'. The results are summarized  in the table below. Four metabolic models that were publicly available were compared: ATCC1015, CBS513.88, CoReCo (Pitkänen et al., 2014), iHD666 (David et al., 2008)  and iMA871 (Andersen et al., 2008). \n",
    "\n",
    "|-|ATCC1015|CBS513.88|CoReCo|iHD666|iMA871|\n",
    "|-|--------|------|------|------|------|\n",
    "|SBML type|Level 3 v1|Level 3 v1|level 2 v4|Level 3 v1|Level 3 v1|\n",
    "|Consistency score (%)|42|42|57|29|23|\n",
    "|Reaction annotation score (%)|48|48|56|25|25|\n",
    "|Metabolite annotation score (%)|62|62|25|25|25|\n",
    "|Total score (%)|24|24|28|15|13|\n",
    "\n",
    "From the MEMOTE analysis it was found that the CoReCo model had the best overall score. However, because the CoReCo model scored very low on metabolite annotation, which is regarded as one of the most important properties of the model, CBS513.88 was considered the most suited GSM model for this experiment. Furthermore the total score percentile difference between CCS513 and Coreco is relatively low compared to the older GSM models iHD666 and iMA871. Thus, the CBS513.88 GSM model was chosen for the computer-aided cell factory engineering. "
   ]
  },
  {
   "cell_type": "markdown",
   "metadata": {},
   "source": [
    "## 4. Computer-Aided Cell Factory Engineering (<1500 words if Category II project; <500 words for Category I project)\n",
    "\n",
    "### Adding the heterologous THC production pathway to CBS513.88\n",
    "In order for *Aspergillus niger* CBS513.88 to be able to make THC several metabolites and reactions had to be added to the existing GSM model. The following reactions and metabolites were identified to be missing in the model: \n",
    "\n",
    "***\n",
    "#### metabolites to be added (Kegg):\n",
    "- Olivetolic Acid (OA) - C12H16O4 \n",
    "- Dimethylallyl pyrophosphate (DMAPP) -  C5H12O7P2 \n",
    "- Cannabigerolic acid (CBGA) - C22H32O4 \n",
    "- Tetrahydrocannabinolic acid (THCA) - C22H30O4 \n",
    "\n",
    "#### Reactions to be added (BRENDA/Kegg): \n",
    "\n",
    "- Hexanoyl-coA + 3 malonyl-CoA -> Olivetoic acid (OA)                                                    \n",
    "- Dimethylallyl diphosphate (DMAPP) + IPP -> Geranyl diphosphate (GPP)    \n",
    "- Geranyldiphosphate (GPP) + Olivetolic acid (OA) -> cannabigerolic acid (CBGA)                          \n",
    "- cannabigerolic acid (CBGA) -> Tetrahydrocannabinolic acid (THCA)                                    \n",
    "- Tetrahydrocannabinolic acid (THCA) ->                                            \n",
    "-  IPP -> DMPP                                                                      \n",
    "\n",
    "#### Enzymes that catalyze the reactions (BRENDA):\n",
    "- Olivetol synthase (OLS)&nbsp;&nbsp;&nbsp;&nbsp;&nbsp;&nbsp;&nbsp;&nbsp;&nbsp;&nbsp;&nbsp;&nbsp;&nbsp;Gene:   OC115699293\n",
    "- Olivetolic acid cyclase (OAC)&nbsp;&nbsp;&nbsp;&nbsp;  Gene:   OC115723438 \n",
    "- CBGA synthase (CBGAS)&nbsp;&nbsp;&nbsp;&nbsp; &nbsp;&nbsp;&nbsp;&nbsp;&nbsp;&nbsp;         Gene:   PT4-T\n",
    "- THCA synthase (THCAS) &nbsp;&nbsp;&nbsp;&nbsp;&nbsp;&nbsp;&nbsp;&nbsp;&nbsp;&nbsp;\t     Gene:   SAPIO_CDS2003\n",
    "- GPP synthase (GPPS)  &nbsp;&nbsp;&nbsp;&nbsp;  &nbsp;&nbsp;&nbsp;&nbsp;&nbsp;&nbsp;&nbsp;&nbsp;&nbsp;&nbsp;        Gene:   ERG20 (S. cerevisiea)\n",
    "- Isopentenyl-diphosphate isomerase Gene: fcd1 (Solanum lycopersicum)\n",
    "***\n",
    "\n",
    "The script can be found here: "
   ]
  },
  {
   "cell_type": "code",
   "execution_count": 4,
   "metadata": {},
   "outputs": [
    {
     "data": {
      "text/html": [
       "<a href='Analysis/model.ipynb' target='_blank'>Analysis/model.ipynb</a><br>"
      ],
      "text/plain": [
       "c:\\Users\\lwdeg\\github-classroom\\27410\\group-assingment-group-05-thc-production-in-yeast\\Analysis\\model.ipynb"
      ]
     },
     "execution_count": 4,
     "metadata": {},
     "output_type": "execute_result"
    }
   ],
   "source": [
    "FileLink('Analysis/model.ipynb')"
   ]
  },
  {
   "cell_type": "markdown",
   "metadata": {},
   "source": [
    "### Model optimization\n",
    "\n",
    "After adding the metabolites and reactions to the model, the model was computationally optimized in order to maximize THC production. The resuts are summarized in the table below:\n",
    " |maximized reaction|Production rate (mmol/gDW/h)|Maximum theoretical yield (mmol-THC/mmol-glc)|\n",
    " |------------------|----------------------------|---------------------------------------------|\n",
    " |THCAS             |3.557                       | 0.3557                                      |\n",
    "\n",
    "This shows that in silico THC production using *Aspergillus niger* is possible. "
   ]
  },
  {
   "cell_type": "code",
   "execution_count": 5,
   "metadata": {},
   "outputs": [
    {
     "data": {
      "text/html": [
       "<a href='Analysis/theoretical_yield.ipynb' target='_blank'>Analysis/theoretical_yield.ipynb</a><br>"
      ],
      "text/plain": [
       "c:\\Users\\lwdeg\\github-classroom\\27410\\group-assingment-group-05-thc-production-in-yeast\\Analysis\\theoretical_yield.ipynb"
      ]
     },
     "execution_count": 5,
     "metadata": {},
     "output_type": "execute_result"
    }
   ],
   "source": [
    "FileLink('Analysis/theoretical_yield.ipynb')"
   ]
  },
  {
   "cell_type": "markdown",
   "metadata": {},
   "source": [
    "### Medium optimization\n",
    "In order to further improve the THC production in the current model, the change in yield using different carbon sources were explored. Sometimes the use of different carbon sources can increase the yield of THC production. Furthermore, glucose is a very common but not so sustainably carbon source. The use of alternative carbon sources that are usually treated as waste or side-products contributes to a more sustainable cell-factory design. As was previously discussed the filamentous *Aspergillus niger* is a micro-organism which is able to use complex carbon sources. One such example is the use of cotton waste products (Kiel et al., 1981). In order to asses the effect of using different carbon sources, the medium was changed and the maximum theoretical yield were recalculated. The results are summarized in the table below:\n",
    "\n",
    "|Carbon source|THC-production (mmol/gDw/h)|Maximum yield (mmol-THC/mmol-C_source)| \n",
    "|-------------|---------------------------|--------------------------------------|\n",
    "|Glucose|3.56|0.356|\n",
    "|Succinate|1.82|0.182|\n",
    "|Fructose|3.56|0.356|\n",
    "|Fumarate|1.78|0.178|\n",
    "|Glutamine|2.67|0.267|\n",
    "|Glutamate|2.67|0.267|\n",
    "|Sucrose|7.11|0.711|\n",
    "|Lactate|1.71|0.171|\n",
    "|Malata|1.78|0.178|\n",
    "|Pyruvate|1.48|0.148|\n",
    "\n",
    "The results show that sucrose would give the highest production rate and yield if it would be used a sole carbon source. However, sucrose is chemically identical as fructose and sucrose when hydrolized. Thus these carbon sources were considered as identical and would not necesarrily improve yield nor THC-production. Nevertheless, the results also showed promising production rate and yield when using glutamate as a carbon source. Though it does not perform as wel as glucose considering it's chemical composition is vastly different from glucose it's potential use as an alternative should be taken into account. If glutamate proves to be more readily available as a carbon source a mixture of glucose and glutamate is proposed as a solution to minimally reduce THC-production whilst using an alternative carbon source. As glutamine is an amino acid, the use of protein rich biological waste might be a viable strategy to obtain THC from waste. \n",
    "\n",
    "To finalize growth optimization literature studies were performed to find the best suited medium composition for CBS513.88. Hamad et al. (2015) showed that fructose is the most suited carbon source as it's usibility is the highest compared to glucose, maltose, sucrose and starch. Furthermore, several studies showed that the use of yeast extract as a nitrogen source had a positive effect on growth and production of different extracellular products and thus were also considered as a method for increasing THC production(Germeç et al., 2019;Lee & Chen, 1997). However, as THC is a totally different product the *in vivo* effect has to be experimentally determined yet. "
   ]
  },
  {
   "cell_type": "code",
   "execution_count": 6,
   "metadata": {},
   "outputs": [
    {
     "data": {
      "text/html": [
       "<a href='Analysis/theoretical_yield.ipynb' target='_blank'>Analysis/theoretical_yield.ipynb</a><br>"
      ],
      "text/plain": [
       "c:\\Users\\lwdeg\\github-classroom\\27410\\group-assingment-group-05-thc-production-in-yeast\\Analysis\\theoretical_yield.ipynb"
      ]
     },
     "execution_count": 6,
     "metadata": {},
     "output_type": "execute_result"
    }
   ],
   "source": [
    "#the script for calculating the maximum theoretical yield can be found here:\n",
    "FileLink('Analysis/theoretical_yield.ipynb')"
   ]
  },
  {
   "cell_type": "markdown",
   "metadata": {},
   "source": [
    "## 5. Discussion (<500 words)"
   ]
  },
  {
   "cell_type": "markdown",
   "metadata": {},
   "source": [
    "## 6. Conclusion (<200 words)"
   ]
  },
  {
   "cell_type": "markdown",
   "metadata": {},
   "source": [
    "## References"
   ]
  },
  {
   "cell_type": "markdown",
   "metadata": {},
   "source": [
    "1. Home - Aspergillus niger CBS 513.88. (n.d.). https://mycocosm.jgi.doe.gov/Aspni_DSM_1/Aspni_DSM_1.home.html\n",
    "2. Lieven, C., Beber, M. E., Olivier, B. G., Bergmann, F., Ataman, M., Babaei, P., Bartell, J. A., Blank, L. M., Chauhan, S. M., Correia, K., Diener, C., Dräger, A., Ebert, B. E., Edirisinghe, J. N., Faria, J. P., Feist, A. M., Fengos, G., Fleming, R. M. T., García-Jiménez, B., . . . Zhang, C. C. (2020). MEMOTE for standardized genome-scale metabolic model testing. Nature Biotechnology, 38(3), 272–276. https://doi.org/10.1038/s41587-020-0446-y\n",
    "3. Andersen, M. R., Nielsen, M. L., & Nielsen, J. (2008). Metabolic model integration of the bibliome, genome, metabolome and reactome of Aspergillus niger. Molecular Systems Biology, 4(1). https://doi.org/10.1038/msb.2008.12\n",
    "4. Pitkänen, E., Jouhten, P., Hou, J. M., Syed, M. F., Blomberg, P., Kludas, J., Oja, M., Holm, L., Penttilä, M., Rousu, J., & Arvas, M. (2014). Comparative Genome-Scale reconstruction of gapless metabolic networks for present and ancestral species. PLOS Computational Biology, 10(2), e1003465. https://doi.org/10.1371/journal.pcbi.1003465\n",
    "5. David, H., Özçelik, İ. Ş., Hofmann, G., & Nielsen, J. (2008). Analysis of Aspergillus nidulans metabolism at the genome-scale. BMC Genomics, 9(1). https://doi.org/10.1186/1471-2164-9-163\n",
    "6. Kiel, H., Guvrin, R., & Henis, Y. (1981). Citric Acid Fermentation by Aspergillus niger on Low Sugar Concentrations and Cotton Waste. Applied and Environmental Microbiology, 42(1), 1–4. https://doi.org/10.1128/aem.42.1.1-4.1981\n",
    "7. Hamad, H., Alma, M. H., Ismael, H. M., & Göçeri, A. (2015). The Effect of Some Sugars on the Growth of Aspergillus niger. Kahramanmaraş Sütçü İmam Üniversitesi Doğa Bilimleri Dergisi, 17(4), 7. https://doi.org/10.18016/ksujns.28479\n",
    "8. Germeç, M., Gürler, H. N., Özcan, A., Erkan, S. B., Karahalil, E., & Turhan, İ. (2019). Medium optimization and kinetic modeling for the production of Aspergillus niger inulinase. Bioprocess and Biosystems Engineering, 43(2), 217–232. https://doi.org/10.1007/s00449-019-02219-1\n",
    "9. Lee, S., & Chen, W. (1997). Optimization of medium composition for the production of glucosyltransferase by Aspergillus niger with response surface methodology. Enzyme and Microbial Technology, 21(6), 436–440. https://doi.org/10.1016/s0141-0229(97)00016-1\n"
   ]
  }
 ],
 "metadata": {
  "kernelspec": {
   "display_name": "anaconda3_20231119",
   "language": "python",
   "name": "python3"
  },
  "language_info": {
   "codemirror_mode": {
    "name": "ipython",
    "version": 3
   },
   "file_extension": ".py",
   "mimetype": "text/x-python",
   "name": "python",
   "nbconvert_exporter": "python",
   "pygments_lexer": "ipython3",
   "version": "3.9.7"
  }
 },
 "nbformat": 4,
 "nbformat_minor": 4
}
