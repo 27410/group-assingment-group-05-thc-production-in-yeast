{
 "cells": [
  {
   "cell_type": "code",
   "execution_count": 1,
   "metadata": {},
   "outputs": [],
   "source": [
    "from IPython.display import FileLink, FileLinks"
   ]
  },
  {
   "cell_type": "markdown",
   "metadata": {},
   "source": [
    "# Production of THC by Aspergillus niger"
   ]
  },
  {
   "cell_type": "markdown",
   "metadata": {},
   "source": [
    "## 1. Introduction"
   ]
  },
  {
   "cell_type": "markdown",
   "metadata": {},
   "source": [
    "### 1.1 Literature review of the compound (<500 words)"
   ]
  },
  {
   "cell_type": "markdown",
   "metadata": {},
   "source": [
    "Δ9-Tetrahydrocannabinol (THC) is the main component of cannabis and is used for medical purposes for a long time. The most evidence exists for the effectiveness of THC for chronic cancer pain and neuropathic pain. Two brain receptors are known which have an affinity for TCH: THC cannabinoid receptor type 1 and 2 (CB1 and CB2), where CB2 has a lower affinity for TCH than CB1. Outside the brain CB1 is also found in body systems such as the gastrointestinal, visual and cardiovascular systems. CB2 is also found in tissues of the immune system (lymphatic tissue, spleen, and macrophages) (Costa B., 2007). \n",
    "The market for medical or recreational use of THC is strongly dependent on legalization. At this moment the cannabinoid drugs Dronabinol and Nabilone are approved by the US Food and Drug Administration (FDA). Dronabinol is a synthesized THC and is used for treatment of anorexia in human immunodeficiency virus (HIV) patients. Nabilone is a synthetic THC analog. Both are used in treatment in cancer patients which suffer from chemotherapy-associated nausea and vomiting when standard therapies fail. Nabiximols is a 1:1 mixture of purified marijuana plant constituents THC and cannabidiol (CBD) and is approved in Europe and Canada, but not by the FDA. The drug is used for adjunctive therapy for pain management and spasticity. The fact that certain THC medications are not approved is due to the potentially addictive and other adverse effects of THC, such as low toxicity (Schrot et al., 2016).\n",
    "Evidence exists for disrupting effects of cannabis on adolescent brain development by, but has a positive effect on the adults brains. This is caused by the development of more neural connections in adult brain regions associated with memory and learning (Albaugh et al., 2021). Moreover, a recent study found that chronic treatment with THC restored cognitive functions in aging mice, which is in line with the finding that an agonist WIN-55212-2 improved the memory of old rats. These findings suggest that low doses of THC can slow down the aging process (Sarne Y, 2018).\n",
    "The plant Cannabis sativa is a natural producer of Tetrahydrocannabinolic acid (THCA). An commercial alternative is the heterologous biosynthesis of THCA in the yeast Aspergilius niger based on genes from Cannabis sativa and Sterptomyces spp. See figure # for the corresonding pathway. Besides pyruvate, isopentenyl diphosphate (IPP)/Dimethylallyl diphosphate (DMAPP) and olivetolic acid are important precursors for THCA biosynthesis, respectively produced by the mevalonate and olivetolic acid pathways. IPP together with DMAPP are converted into Geranyl diphosphate (GPP) by GPP synthase (GPPS). The last step in the Olivetolic acid pathway is the formation of olivetolic acid from hexanoyl-CoA with three malonyl-CoA by the combination of the enzymes olivetolic acid cyclase (OAC) and olivetol synthase (OLS). OAC is needed, because OLS is not able to produce olivetol by itself. The final steps are carried out by cannabinoid synthases (CBGAS and THCAS), ultimately forming THCA (Thomas, et al., 2020)\n",
    "\n",
    "![Biosynthetic pathway of THC](Pictures/THC_pathway.png)\n",
    "\n",
    "Biosynthetic pathway of Tetrahydrocannabinolic acid (THCA) in C. sativa where isopentenyl diphosphate (IPP)/dimetheyulallylphsophate (DMAPP) are synthesized by the MEP pathway and hexanoic acid by the fatty acid biosynthesis (Thomas, et al., 2020)."
   ]
  },
  {
   "cell_type": "markdown",
   "metadata": {},
   "source": [
    "### 1.2 Literature review of the cell factory (<500 words)"
   ]
  },
  {
   "cell_type": "markdown",
   "metadata": {},
   "source": [
    "## 2. Problem definition (<300 words)\n",
    "\n",
    "The production of THC in plants is not ideal. The growth of *Cannabis sativa* depends on factors such as weather and thus a constant production is not always guaranteed. Recombinant THC production in *Aspergillus niger* ensures constant production. The heterologous THC production in cell factories has already been proven to work. Thomas et al. (2020) showed heterologous THC production in *Saccharomyces cerevisiae*. However, they reported very low yields, thus making the heterologous THC production economically non-viable. \n",
    "Producing THC using *C. sativa* is quite labor intensive and the plants occupy relatively high amounts of land. Using a cell factory such as *Aspergillus niger* which is cultivated in bioreactors consumes less land and requires less labor. However, there are still several problems that have to are adressed in this report. The first problem that is assesed in this report is whether or not *A. niger* is able to produce recombinant THC in the first place. Even though it was proven to work for *S. cerevisea* does not mean it also works for *A. niger*. Secondly, different computer-aided cell factory engineering strategies are performed to find new strains that are able to produce THC with a higher yields. "
   ]
  },
  {
   "cell_type": "markdown",
   "metadata": {},
   "source": [
    "## 3. Selection and assessment of existing GSM (<500 words)\n",
    "As *A. niger* is not able to produce THC on it's own, it was necessary to find the metabolites and reactions that have to be added. In order simulate heterologous THC production, an existing Genomic Scale Model (GSM) of Aspergillus niger was chosen. There were several models available and they are summarized in the table below. \n",
    "\n",
    "| GEM | Description |\n",
    "| ----------- | ----------- |\n",
    "| ATCC1015 | Wildtype strain |\n",
    "| CBS513.88 | Industrial strain |\n",
    "\n",
    "\n",
    "Though there were many other GEMs abvailable for *Aspergillus niger* only these two were considered. The reason for this is because these models which were published by Brandl et al. (2018) contains information of most GEMs that were previously available, namely: iHD666, CoReCo  and iHL1210. For the creation of both ATCC 1015 and CBS 513.88 strains the iJB1325 model was reconstructed using 876 publications. Reactions metabolites and genes were added to the model and as of 2023 no new GEMs have been published so far. Because we want to use the *A. niger* as a cell factory, the CBS 513.88 strain was chosen for the cell-factory engineering as it is a industrial strain. The CBS513.88 strain was obtained thanks to the efforts of DSM and their collaborators (Home - Aspergillus Niger CBS 513.88, n.d.). The strain is mainly used to produce pharmaceuticals, acids, enzymes and food products. Because of this the CBS513.88 strain was chosen as a GSM for this project. \n",
    "\n",
    "To compare the CBS513.88 model with other GSM models of *A. niger* , MEMOTE , which is a metabolic scale test-suite, was used (Lieven et al., 2020). The report, which was published as a HTML file can be found in the 'Analysis folder'. The results are summarized  in the table below. Four metabolic models that were publicly available were compared: ATCC1015, CBS513.88, CoReCo (Pitkänen et al., 2014), iHD666 (David et al., 2008)  and iMA871 (Andersen et al., 2008). \n",
    "\n",
    "|test|1|2|3|\n",
    "|----|-|-|-|"
   ]
  },
  {
   "cell_type": "markdown",
   "metadata": {},
   "source": [
    "## 4. Computer-Aided Cell Factory Engineering (<1500 words if Category II project; <500 words for Category I project)"
   ]
  },
  {
   "cell_type": "markdown",
   "metadata": {},
   "source": [
    "## 5. Discussion (<500 words)"
   ]
  },
  {
   "cell_type": "markdown",
   "metadata": {},
   "source": [
    "## 6. Conclusion (<200 words)"
   ]
  },
  {
   "cell_type": "markdown",
   "metadata": {},
   "source": [
    "## References"
   ]
  },
  {
   "cell_type": "markdown",
   "metadata": {},
   "source": [
    "1. Home - Aspergillus niger CBS 513.88. (n.d.). https://mycocosm.jgi.doe.gov/Aspni_DSM_1/Aspni_DSM_1.home.html\n",
    "2. Lieven, C., Beber, M. E., Olivier, B. G., Bergmann, F., Ataman, M., Babaei, P., Bartell, J. A., Blank, L. M., Chauhan, S. M., Correia, K., Diener, C., Dräger, A., Ebert, B. E., Edirisinghe, J. N., Faria, J. P., Feist, A. M., Fengos, G., Fleming, R. M. T., García-Jiménez, B., . . . Zhang, C. C. (2020). MEMOTE for standardized genome-scale metabolic model testing. Nature Biotechnology, 38(3), 272–276. https://doi.org/10.1038/s41587-020-0446-y\n",
    "3. Andersen, M. R., Nielsen, M. L., & Nielsen, J. (2008). Metabolic model integration of the bibliome, genome, metabolome and reactome of Aspergillus niger. Molecular Systems Biology, 4(1). https://doi.org/10.1038/msb.2008.12\n",
    "4. Pitkänen, E., Jouhten, P., Hou, J. M., Syed, M. F., Blomberg, P., Kludas, J., Oja, M., Holm, L., Penttilä, M., Rousu, J., & Arvas, M. (2014). Comparative Genome-Scale reconstruction of gapless metabolic networks for present and ancestral species. PLOS Computational Biology, 10(2), e1003465. https://doi.org/10.1371/journal.pcbi.1003465\n",
    "5. David, H., Özçelik, İ. Ş., Hofmann, G., & Nielsen, J. (2008). Analysis of Aspergillus nidulans metabolism at the genome-scale. BMC Genomics, 9(1). https://doi.org/10.1186/1471-2164-9-163\n"
   ]
  }
 ],
 "metadata": {
  "kernelspec": {
   "display_name": "anaconda3_20231119",
   "language": "python",
   "name": "python3"
  },
  "language_info": {
   "codemirror_mode": {
    "name": "ipython",
    "version": 3
   },
   "file_extension": ".py",
   "mimetype": "text/x-python",
   "name": "python",
   "nbconvert_exporter": "python",
   "pygments_lexer": "ipython3",
   "version": "3.9.7"
  }
 },
 "nbformat": 4,
 "nbformat_minor": 4
}
