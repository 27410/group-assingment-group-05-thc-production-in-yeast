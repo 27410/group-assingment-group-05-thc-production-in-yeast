{
 "cells": [
  {
   "cell_type": "code",
   "execution_count": 1,
   "metadata": {},
   "outputs": [],
   "source": [
    "from IPython.display import FileLink, FileLinks"
   ]
  },
  {
   "cell_type": "markdown",
   "metadata": {},
   "source": [
    "# Production of THC by Aspergillus niger"
   ]
  },
  {
   "cell_type": "markdown",
   "metadata": {},
   "source": [
    "## 1. Introduction"
   ]
  },
  {
   "cell_type": "markdown",
   "metadata": {},
   "source": [
    "### 1.1 Literature review of the compound (<500 words)"
   ]
  },
  {
   "cell_type": "markdown",
   "metadata": {},
   "source": [
    "### 1.2 Literature review of the cell factory (<500 words)"
   ]
  },
  {
   "cell_type": "markdown",
   "metadata": {},
   "source": [
    "## 2. Problem definition (<300 words)\n",
    "\n",
    "The production of THC in plants is not ideal. The growth of *Cannabis sativa* depends on factors such as weather and thus a constant production is not always guaranteed. Recombinant THC production in *Aspergillus niger* ensures constant production. The heterologous THC production in cell factories has already been proven to work. Thomas et al. (2020) showed heterologous THC production in *Saccharomyces cerevisiae*. However, they reported very low yields, thus making the heterologous THC production economically non-viable. \n",
    "Producing THC using *C. sativa* is quite labor intensive and the plants occupy relatively high amounts of land. Using a cell factory such as *Aspergillus niger* which is cultivated in bioreactors consumes less land and requires less labor. However, there are still several problems that have to are adressed in this report. The first problem that is assesed in this report is whether or not *A. niger* is able to produce recombinant THC in the first place. Even though it was proven to work for *S. cerevisea* does not mean it also works for *A. niger*. Secondly, different computer-aided cell factory engineering strategies are performed to find new strains that are able to produce THC with a higher yields. "
   ]
  },
  {
   "cell_type": "markdown",
   "metadata": {},
   "source": [
    "## 3. *If Project category I:* Reconstruction of a new GSM for your cell factory host of interest (<1500 words)\n",
    "\n",
    "As *A. niger* is not able to produce THC on it's own, it was necessary to find the metabolites and reactions that have to be added. The THC production pathway that had to be added is shown in figure 1. The following metabolites and reactions had to be added in order for *A. niger* to be able to produce heterologous THC:\n",
    "\n",
    "***\n",
    "\n",
    "- Olivetolic Acid (OA) - C12H16O4\n",
    "- Dimethylallyl pyrophosphate (DMAPP) -  C5H12O7P2 \n",
    "- Cannabigerolic acid (CBGA) - C22H32O4 \n",
    "- Tetrahydrocannabinolic acid (THCA) - C22H30O4 \n",
    "\n",
    "Reactions \n",
    "\n",
    "- Hexanoyl-coA + 3 malonyl-CoA -> Olivetoic acid (OA)                                                    (1) OLS\n",
    "- Dimethylallyl diphosphate (DMAPP) + IPP -> Geranyl diphosphate (GPP)       (2) GPPS\n",
    "- Geranyldiphosphate (GPP) + Olivetolic acid (OA) -> cannabigerolic acid (CBGA)                          (3) CBGAS\n",
    "- cannabigerolic acid (CBGA) -> Tetrahydrocannabinolic acid (THCA)                                       (4) THCAS\n",
    "- Tetrahydrocannabinolic acid (THCA) ->                                             (5) Export\n",
    "-  IPP -> DMPP                                                                       (6) Equilibrium\n",
    "\n",
    "Enzymes\n",
    "- Olivetol synthase (OLS),        Gene:   OC115699293\n",
    "- Olivetolic acid cyclase (OAC),  Gene:   OC115723438 \n",
    "- CBGA synthase (CBGAS),         Gene:   PT4-T\n",
    "- THCA synthase (THCAS), \t     Gene:   SAPIO_CDS2003\n",
    "- GPP synthase (GPPS) ,           Gene:   ERG20 (S. cerevisiea)\n",
    "- Isopentenyl-diphosphate isomerase, Gene: fcd1 (Solanum lycopersicum)\n",
    "***\n"
   ]
  },
  {
   "cell_type": "markdown",
   "metadata": {},
   "source": [
    "or"
   ]
  },
  {
   "cell_type": "markdown",
   "metadata": {},
   "source": [
    "## 3. *If Project category II:* Selection and assessment of existing GSM (<500 words)"
   ]
  },
  {
   "cell_type": "markdown",
   "metadata": {},
   "source": [
    "## 4. Computer-Aided Cell Factory Engineering (<1500 words if Category II project; <500 words for Category I project)"
   ]
  },
  {
   "cell_type": "markdown",
   "metadata": {},
   "source": [
    "## 5. Discussion (<500 words)"
   ]
  },
  {
   "cell_type": "markdown",
   "metadata": {},
   "source": [
    "## 6. Conclusion (<200 words)"
   ]
  },
  {
   "cell_type": "markdown",
   "metadata": {},
   "source": [
    "## References"
   ]
  },
  {
   "cell_type": "code",
   "execution_count": null,
   "metadata": {},
   "outputs": [],
   "source": []
  }
 ],
 "metadata": {
  "kernelspec": {
   "display_name": "anaconda3_20231119",
   "language": "python",
   "name": "python3"
  },
  "language_info": {
   "codemirror_mode": {
    "name": "ipython",
    "version": 3
   },
   "file_extension": ".py",
   "mimetype": "text/x-python",
   "name": "python",
   "nbconvert_exporter": "python",
   "pygments_lexer": "ipython3",
   "version": "3.9.7"
  }
 },
 "nbformat": 4,
 "nbformat_minor": 4
}
